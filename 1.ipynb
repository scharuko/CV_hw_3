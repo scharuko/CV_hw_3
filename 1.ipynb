{
 "cells": [
  {
   "cell_type": "markdown",
   "metadata": {},
   "source": [
    "# SSD vs. Correlation \n",
    "- SSD is known as sum of squared distances which is an un-normalized disimilarity score computed between image1 and image2\n",
    "- Correlation is similarity score which is normalized and outputs a value between 0 to 1.\n",
    "\n",
    "$$SSD(u,v) = \\sum_{i}(u_{i} - v_{i})^{2}$$\n",
    "\n",
    "$$\\rho_{normalized \\: corr}(u,v) = \\frac{\\sum_{i}(u_{i} - \\bar{u})(v_{i} - \\bar{v})}{\\sqrt{(\n",
    "    \\sum_{j}(u_{j} - \\bar{u})^2(\\sum_{j}(v_{j} - \\bar{v})^2}}$$"
   ]
  },
  {
   "cell_type": "code",
   "execution_count": 1,
   "metadata": {},
   "outputs": [],
   "source": [
    "import cv2\n",
    "import numpy as np"
   ]
  },
  {
   "cell_type": "code",
   "execution_count": 2,
   "metadata": {},
   "outputs": [],
   "source": [
    "# Load the images\n",
    "frame0 = cv2.imread('./frames_SSD/frame_0.jpg')\n",
    "frame0 = cv2.cvtColor(frame0, cv2.COLOR_BGR2GRAY)\n",
    "frame1 = cv2.imread('./frames_SSD/frame_112.jpg')\n",
    "frame1 = cv2.cvtColor(frame1, cv2.COLOR_BGR2GRAY)\n",
    "frame2 = cv2.imread('./frames_SSD/frame_168.jpg')\n",
    "frame2 = cv2.cvtColor(frame2, cv2.COLOR_BGR2GRAY)\n",
    "frame3 = cv2.imread('./frames_SSD/frame_204.jpg')\n",
    "frame3 = cv2.cvtColor(frame3, cv2.COLOR_BGR2GRAY)\n",
    "frame4 = cv2.imread('./frames_SSD/frame_283.jpg')\n",
    "frame4 = cv2.cvtColor(frame4, cv2.COLOR_BGR2GRAY)\n",
    "frame5 = cv2.imread('./frames_SSD/frame_284.jpg')\n",
    "frame5 = cv2.cvtColor(frame5, cv2.COLOR_BGR2GRAY)\n",
    "frame6 = cv2.imread('./frames_SSD/frame_326.jpg')\n",
    "frame6 = cv2.cvtColor(frame6, cv2.COLOR_BGR2GRAY)\n",
    "frame7 = cv2.imread('./frames_SSD/frame_33.jpg')\n",
    "frame7 = cv2.cvtColor(frame7, cv2.COLOR_BGR2GRAY)\n",
    "frame8 = cv2.imread('./frames_SSD/frame_333.jpg')\n",
    "frame8 = cv2.cvtColor(frame8, cv2.COLOR_BGR2GRAY)\n",
    "frame9 = cv2.imread('./frames_SSD/frame_57.jpg')\n",
    "frame9 = cv2.cvtColor(frame9, cv2.COLOR_BGR2GRAY)"
   ]
  },
  {
   "cell_type": "code",
   "execution_count": 3,
   "metadata": {},
   "outputs": [],
   "source": [
    "# pick region of interest\n",
    "frame0 = frame0[180:320, 200:330]\n",
    "frame1 = frame1[180:320, 200:330]\n",
    "frame2 = frame2[180:320, 200:330]\n",
    "frame3 = frame3[180:320, 200:330]\n",
    "frame4 = frame4[180:320, 200:330]\n",
    "frame5 = frame5[180:320, 200:330]\n",
    "frame6 = frame6[180:320, 200:330]\n",
    "frame7 = frame7[180:320, 200:330]\n",
    "frame8 = frame8[180:320, 200:330]\n",
    "frame9 = frame9[180:320, 200:330]"
   ]
  },
  {
   "cell_type": "code",
   "execution_count": 4,
   "metadata": {},
   "outputs": [],
   "source": [
    "# instantiate list for SSD\n",
    "ssd = []\n",
    "# instantiate list of frames\n",
    "frames = [frame0, frame1, frame2, frame3, frame4, frame5, frame6, frame7, frame8, frame9]"
   ]
  },
  {
   "cell_type": "code",
   "execution_count": 5,
   "metadata": {},
   "outputs": [],
   "source": [
    "# set the first frame as the reference frame\n",
    "reference = frames[0]\n",
    "# compute ssd scores for each frame\n",
    "for i in range(0,len(frames)):\n",
    "    ssd_score = np.sum((np.square(frames[i]-reference)))\n",
    "    ssd.append(ssd_score)"
   ]
  },
  {
   "cell_type": "code",
   "execution_count": 6,
   "metadata": {},
   "outputs": [
    {
     "data": {
      "text/plain": [
       "[0,\n",
       " 1450491,\n",
       " 1462383,\n",
       " 990030,\n",
       " 639276,\n",
       " 652462,\n",
       " 1138902,\n",
       " 1436165,\n",
       " 1143872,\n",
       " 1216492]"
      ]
     },
     "execution_count": 6,
     "metadata": {},
     "output_type": "execute_result"
    }
   ],
   "source": [
    "# print ssd\n",
    "ssd"
   ]
  },
  {
   "cell_type": "code",
   "execution_count": 7,
   "metadata": {},
   "outputs": [],
   "source": [
    "# instantiate list for correlation coefficient\n",
    "corr=[]\n",
    "# define correlation function\n",
    "def correlation_coefficient(patch1, patch2):\n",
    "    product = np.mean((patch1- patch1.mean()) * (patch2 - patch2.mean()))\n",
    "    stds = patch1.std() * patch2.std()\n",
    "    # if stds is 0, return 0 (no correlation)\n",
    "    if stds == 0:\n",
    "        return 0\n",
    "    else:\n",
    "        product = product/stds\n",
    "        return product\n"
   ]
  },
  {
   "cell_type": "code",
   "execution_count": 8,
   "metadata": {},
   "outputs": [],
   "source": [
    "# compute correlation coefficient scores for each frame\n",
    "corr = []\n",
    "for i in range(0,len(frames)):\n",
    "    norm_corr = correlation_coefficient(frames[i], reference)\n",
    "    corr.append(norm_corr)"
   ]
  },
  {
   "cell_type": "code",
   "execution_count": 9,
   "metadata": {},
   "outputs": [
    {
     "data": {
      "text/plain": [
       "[1.0,\n",
       " -0.10798371062418219,\n",
       " -0.03013506806291706,\n",
       " 0.44905488079148353,\n",
       " 0.9590986239784687,\n",
       " 0.9559257754790494,\n",
       " 0.20556031032162028,\n",
       " -0.09377189690515758,\n",
       " 0.2256130558783609,\n",
       " 0.23570159204971944]"
      ]
     },
     "execution_count": 9,
     "metadata": {},
     "output_type": "execute_result"
    }
   ],
   "source": [
    "# compute correlation coefficient scores for each frame\n",
    "corr"
   ]
  },
  {
   "cell_type": "markdown",
   "metadata": {},
   "source": [
    "# SSD vs. Correlation\n",
    "\n",
    "- the SSD score is not normalized so it is hard to compare the values as a universal measure\n",
    "- In the other hand, The Normalized correlation coefficient is a normalized value (b/w 0 to 1) and can be a better universal score than SSD to compare between different frames and scenarios."
   ]
  },
  {
   "cell_type": "markdown",
   "metadata": {},
   "source": []
  }
 ],
 "metadata": {
  "kernelspec": {
   "display_name": "Python 3.10.7 64-bit",
   "language": "python",
   "name": "python3"
  },
  "language_info": {
   "codemirror_mode": {
    "name": "ipython",
    "version": 3
   },
   "file_extension": ".py",
   "mimetype": "text/x-python",
   "name": "python",
   "nbconvert_exporter": "python",
   "pygments_lexer": "ipython3",
   "version": "3.10.7"
  },
  "orig_nbformat": 4,
  "vscode": {
   "interpreter": {
    "hash": "308159fa9b6c6619a1f26cdc1093eb362191d23a9b1739232d13ec31d5a998e0"
   }
  }
 },
 "nbformat": 4,
 "nbformat_minor": 2
}
